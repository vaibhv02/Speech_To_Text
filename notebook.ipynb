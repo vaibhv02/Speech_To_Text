{
 "cells": [
  {
   "cell_type": "markdown",
   "metadata": {},
   "source": [
    "# Speech to Text Conversion"
   ]
  },
  {
   "cell_type": "markdown",
   "metadata": {},
   "source": [
    "#### Install Dependencies\n",
    "- IBM Watson"
   ]
  },
  {
   "cell_type": "markdown",
   "metadata": {
    "vscode": {
     "languageId": "plaintext"
    }
   },
   "source": [
    "### Authenticate"
   ]
  },
  {
   "cell_type": "code",
   "execution_count": 19,
   "metadata": {},
   "outputs": [],
   "source": [
    "url = 'https://api.au-syd.speech-to-text.watson.cloud.ibm.com/instances/7c6810dc-5b6b-4361-8813-63c7345970ec'\n",
    "apikey = 'ab5h0IbSIJFA5woWsHc5BPfXxvzw48TQgSE0sR9YlFY-'"
   ]
  },
  {
   "cell_type": "code",
   "execution_count": 20,
   "metadata": {},
   "outputs": [],
   "source": [
    "from ibm_watson import SpeechToTextV1\n",
    "from ibm_cloud_sdk_core.authenticators import IAMAuthenticator"
   ]
  },
  {
   "cell_type": "code",
   "execution_count": 21,
   "metadata": {},
   "outputs": [],
   "source": [
    "# Setup Service\n",
    "authenticator = IAMAuthenticator(apikey)\n",
    "\n",
    "# New STT Service\n",
    "stt = SpeechToTextV1(authenticator=authenticator)\n",
    "\n",
    "#Set Service URL\n",
    "stt.set_service_url(url)"
   ]
  },
  {
   "cell_type": "markdown",
   "metadata": {},
   "source": [
    "#### Open Audio Source And Convert"
   ]
  },
  {
   "cell_type": "code",
   "execution_count": 22,
   "metadata": {},
   "outputs": [],
   "source": [
    "with open('speech.mp3', 'rb') as f:\n",
    "    res = stt.recognize(\n",
    "        audio=f,\n",
    "        content_type='audio/mp3',\n",
    "        model='en-US_NarrowbandModel'\n",
    "    ).get_result()\n"
   ]
  },
  {
   "cell_type": "code",
   "execution_count": 23,
   "metadata": {},
   "outputs": [
    {
     "data": {
      "text/plain": [
       "{'result_index': 0,\n",
       " 'results': [{'final': True,\n",
       "   'alternatives': [{'transcript': 'hello this is the first test of text to speech code ',\n",
       "     'confidence': 0.99}]}]}"
      ]
     },
     "execution_count": 23,
     "metadata": {},
     "output_type": "execute_result"
    }
   ],
   "source": [
    "res"
   ]
  },
  {
   "cell_type": "code",
   "execution_count": 24,
   "metadata": {},
   "outputs": [
    {
     "data": {
      "text/plain": [
       "'hello this is the first test of text to speech code '"
      ]
     },
     "execution_count": 24,
     "metadata": {},
     "output_type": "execute_result"
    }
   ],
   "source": [
    "text = res['results'][0]['alternatives'][0]['transcript']\n",
    "text"
   ]
  },
  {
   "cell_type": "code",
   "execution_count": 25,
   "metadata": {},
   "outputs": [
    {
     "data": {
      "text/plain": [
       "0.99"
      ]
     },
     "execution_count": 25,
     "metadata": {},
     "output_type": "execute_result"
    }
   ],
   "source": [
    "confidence = res['results'][0]['alternatives'][0]['confidence']\n",
    "confidence"
   ]
  },
  {
   "cell_type": "code",
   "execution_count": 26,
   "metadata": {},
   "outputs": [],
   "source": [
    "with open('output.txt', 'w') as out:\n",
    "    out.writelines(text)"
   ]
  },
  {
   "cell_type": "code",
   "execution_count": 27,
   "metadata": {},
   "outputs": [],
   "source": [
    "with open('poem_tech.mp3', 'rb') as f:\n",
    "    res = stt.recognize(\n",
    "        audio=f,\n",
    "        content_type='audio/mp3',\n",
    "        model='en-US_NarrowbandModel'\n",
    "    ).get_result()"
   ]
  },
  {
   "cell_type": "code",
   "execution_count": 28,
   "metadata": {},
   "outputs": [
    {
     "data": {
      "text/plain": [
       "{'result_index': 0,\n",
       " 'results': [{'final': True,\n",
       "   'alternatives': [{'transcript': \"then realms of circuits bride invest we're bites of stock blend with the past day I whispers in digital dreams unraveling the future seems Dr %HESITATION silicon veins knowledge flows we're algorithms learn and pros into languages zeros and ones that because of innovations drums dot technologies heart beat fears and build a symphony of stories told from Clinton realms to cyberspace unveiling wonders time can't erase died SO let the voices rise sensing obey ice grace and what it brings in the realm where dreams take flight in the dense of pixels day N. Nite \",\n",
       "     'confidence': 0.72}]}]}"
      ]
     },
     "execution_count": 28,
     "metadata": {},
     "output_type": "execute_result"
    }
   ],
   "source": [
    "res"
   ]
  },
  {
   "cell_type": "code",
   "execution_count": 31,
   "metadata": {},
   "outputs": [
    {
     "data": {
      "text/plain": [
       "\"then realms of circuits bride invest we're bites of stock blend with the past day I whispers in digital dreams unraveling the future seems Dr %HESITATION silicon veins knowledge flows we're algorithms learn and pros into languages zeros and ones that because of innovations drums dot technologies heart beat fears and build a symphony of stories told from Clinton realms to cyberspace unveiling wonders time can't erase died SO let the voices rise sensing obey ice grace and what it brings in the realm where dreams take flight in the dense of pixels day N. Nite \""
      ]
     },
     "execution_count": 31,
     "metadata": {},
     "output_type": "execute_result"
    }
   ],
   "source": [
    "text2 = res['results'][0]['alternatives'][0]['transcript']\n",
    "text2"
   ]
  },
  {
   "cell_type": "code",
   "execution_count": 32,
   "metadata": {},
   "outputs": [],
   "source": [
    "with open('output2.txt', 'w') as out:\n",
    "    out.writelines(text2)"
   ]
  },
  {
   "cell_type": "code",
   "execution_count": null,
   "metadata": {},
   "outputs": [],
   "source": []
  }
 ],
 "metadata": {
  "kernelspec": {
   "display_name": "myenv",
   "language": "python",
   "name": "python3"
  },
  "language_info": {
   "codemirror_mode": {
    "name": "ipython",
    "version": 3
   },
   "file_extension": ".py",
   "mimetype": "text/x-python",
   "name": "python",
   "nbconvert_exporter": "python",
   "pygments_lexer": "ipython3",
   "version": "3.12.1"
  }
 },
 "nbformat": 4,
 "nbformat_minor": 2
}
